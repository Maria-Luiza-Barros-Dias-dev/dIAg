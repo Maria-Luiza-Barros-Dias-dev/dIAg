{
  "nbformat": 4,
  "nbformat_minor": 0,
  "metadata": {
    "colab": {
      "provenance": [],
      "authorship_tag": "ABX9TyOwp+PcEbdy59BQ16ROmD1m",
      "include_colab_link": true
    },
    "kernelspec": {
      "name": "python3",
      "display_name": "Python 3"
    },
    "language_info": {
      "name": "python"
    }
  },
  "cells": [
    {
      "cell_type": "markdown",
      "metadata": {
        "id": "view-in-github",
        "colab_type": "text"
      },
      "source": [
        "<a href=\"https://colab.research.google.com/github/Maria-Luiza-Barros-Dias-dev/dIAg/blob/main/dIAg.ipynb\" target=\"_parent\"><img src=\"https://colab.research.google.com/assets/colab-badge.svg\" alt=\"Open In Colab\"/></a>"
      ]
    },
    {
      "cell_type": "code",
      "execution_count": null,
      "metadata": {
        "colab": {
          "base_uri": "https://localhost:8080/",
          "height": 1000
        },
        "id": "OcvzQD-PzW-m",
        "outputId": "aa8c9e9f-101b-472c-c580-4896a7a9df27"
      },
      "outputs": [
        {
          "output_type": "stream",
          "name": "stdout",
          "text": [
            "Bem vindo(a) ao dIAg! Aqui os resultados do seu HEMOGRAMA são analisados e comparados de maneira rápida e prática!\n",
            "Informe o Sexo do paciente:Masculino\n",
            "Informe o Resultado para ser comparado:HCM.................................................. 29,08\n",
            "Resposta: O HCM (Hemoglobina Corpuscular Média) de 29,08 pg está dentro da faixa de referência para homens, que geralmente fica entre 27 e 32 pg. \n",
            "\n",
            "**É importante ressaltar que a interpretação de exames laboratoriais é complexa e exige conhecimento médico especializado.** Um único valor, como o HCM, não conta a história completa da saúde de um paciente. É necessário analisar o HCM em conjunto com outros parâmetros do hemograma, como a Hemoglobina (Hb) e o Hematócrito (Ht), além do histórico médico do paciente, seus sintomas e outros exames complementares. \n",
            "\n",
            "Diversos médicos podem realizar essa análise, cada um com sua área de expertise e foco em diferentes sistemas do corpo humano. Por exemplo, um hematologista pode se aprofundar na análise do HCM em relação a doenças sanguíneas, enquanto um clínico geral pode contextualizar esse valor com o estado geral de saúde do paciente.\n",
            "\n",
            "**Para uma interpretação completa e individualizada do seu exame, procure um médico.** Ele poderá te dar um diagnóstico preciso e te indicar o tratamento mais adequado. \n",
            " \n",
            "\n",
            "\n",
            "Avaliar mais tópicos do seu exame?\n",
            "Eritrócitos.......................................... 2,00\n",
            "dIAg agradece! Volte sempre!\n",
            "Resposta: Você forneceu o valor de 29,08 pg para HCM e 2,00 para Eritrócitos, mas não especificou a unidade de medida para Eritrócitos. As unidades comuns para contagem de eritrócitos são milhões por microlitro (µL) ou trilhões por litro (T/L).  \n",
            "\n",
            "**Assumindo que a unidade para Eritrócitos seja milhões por microlitro (µL):**\n",
            "\n",
            "Um valor de 2,00 milhões de eritrócitos/µL é **extremamente baixo** e indica uma condição chamada anemia severa.  Essa condição requer atenção médica imediata. \n",
            "\n",
            "**Independentemente da unidade de medida para Eritrócitos, um HCM de 29,08 pg, isoladamente, não fornece informações suficientes para uma interpretação completa.** \n",
            "\n",
            "Para entender a relação entre esses valores e o seu significado clínico, você precisa considerar outros parâmetros do hemograma, como:\n",
            "\n",
            "* **Hemoglobina (Hb):** Concentração de hemoglobina no sangue.\n",
            "* **Hematócrito (Ht):** Porcentagem do volume sanguíneo ocupado pelos eritrócitos.\n",
            "* **VCM (Volume Corpuscular Médio):**  Tamanho médio dos eritrócitos.\n",
            "* **CHCM (Concentração de Hemoglobina Corpuscular Média):** Concentração média de hemoglobina dentro dos eritrócitos.\n",
            "* **RDW (Red Cell Distribution Width):**  Variação no tamanho dos eritrócitos.\n",
            "\n",
            "Além disso, o médico levará em consideração seu histórico médico, sintomas, medicamentos em uso e outros exames complementares para determinar a causa da anemia e o melhor tratamento para você.\n",
            "\n",
            "**Nunca tente interpretar seus exames sozinho.** Procure um médico para uma avaliação completa e individualizada do seu caso. \n",
            " \n",
            "\n",
            "\n",
            "Avaliar mais tópicos do seu exame?\n",
            "Hemoglobina..................................... 13,00\n",
            "dIAg agradece! Volte sempre!\n",
            "Resposta: O HCM de 29,08 pg está dentro da faixa de referência para homens, que geralmente fica entre 27 e 32 pg.  A hemoglobina de 13,00 g/dL também está dentro da faixa de referência para homens, que geralmente fica entre 13,5 e 17,5 g/dL, embora esteja um pouco abaixo do limite inferior.\n",
            "\n",
            "No entanto, **é crucial entender que interpretar exames laboratoriais não se resume a comparar valores individuais com faixas de referência.** \n",
            "\n",
            "Para uma análise completa, é necessário considerar outros parâmetros do hemograma, como:\n",
            "\n",
            "* **Hematócrito (Ht):** Porcentagem do volume sanguíneo ocupado pelos eritrócitos.\n",
            "* **VCM (Volume Corpuscular Médio):**  Tamanho médio dos eritrócitos.\n",
            "* **CHCM (Concentração de Hemoglobina Corpuscular Média):** Concentração média de hemoglobina dentro dos eritrócitos.\n",
            "* **RDW (Red Cell Distribution Width):**  Variação no tamanho dos eritrócitos.\n",
            "\n",
            "Além disso, o médico levará em consideração seu histórico médico, sintomas, medicamentos em uso e outros exames complementares para uma avaliação completa.\n",
            "\n",
            "**Lembre-se:** \n",
            "\n",
            "* Um valor ligeiramente abaixo da referência, como a hemoglobina nesse caso, pode não ser clinicamente significativo, dependendo do contexto individual do paciente. \n",
            "* A interpretação de exames exige conhecimento médico especializado e uma visão holística do paciente. \n",
            "\n",
            "**Procure um médico para uma avaliação completa e individualizada do seu caso.** Ele poderá te dar um diagnóstico preciso e te indicar o tratamento mais adequado, se necessário. \n",
            " \n",
            "\n",
            "\n",
            "Avaliar mais tópicos do seu exame?\n",
            "não\n",
            "dIAg agradece! Volte sempre!\n"
          ]
        }
      ],
      "source": [
        "import google.generativeai as genai\n",
        "from google.colab import userdata\n",
        "api_key = userdata.get('SECRET_KEY')\n",
        "#configura a API Generative AI com a chave API fornecida.\n",
        "genai.configure(api_key=api_key)\n",
        "\n",
        "#Definição das Configurações de Geração de resposta\n",
        "generation_config = {\n",
        "  \"candidate_count\": 1,\n",
        "  \"temperature\": 0.5,\n",
        "}\n",
        "\n",
        "safety_settings={\n",
        "    'HATE': 'BLOCK_NONE',\n",
        "    'HARASSMENT': 'BLOCK_NONE',\n",
        "    'SEXUAL' : 'BLOCK_NONE',\n",
        "    'DANGEROUS' : 'BLOCK_NONE'\n",
        "    }\n",
        "\n",
        "instruction = \"Você é um médico que deverá interpretar o resultado de exames de um paciente. Deve fornecer um comparativo com os valores de referência e ressaltar que a interpretação de exames laboratoriais é uma tarefa complexa que exige conhecimento médico especializado. Diversos médicos podem realizar essa análise, cada um com sua área de expertise e foco em diferentes sistemas do corpo humano.\"\n",
        "\n",
        "model = genai.GenerativeModel(model_name='gemini-1.5-pro-latest',\n",
        "                                  generation_config=generation_config,\n",
        "                                  safety_settings=safety_settings,\n",
        "                                  system_instruction=instruction,)\n",
        "\n",
        "\n",
        "#Criando o chat\n",
        "chat = model.start_chat(history=[])\n",
        "\n",
        "print(\"Bem vindo(a) ao dIAg! Aqui os resultados do seu HEMOGRAMA são analisados e comparados de maneira rápida e prática!\")\n",
        "\n",
        "prompt = input('Informe o Sexo do paciente:')\n",
        "prompt2 = input('Informe o Resultado para ser comparado:')\n",
        "\n",
        "while prompt != \"não\":\n",
        "  response = chat.send_message(f'Mostre o valor referência para o {prompt2} para um paciente do sexo {prompt} ')\n",
        "  print(\"Resposta:\", response.text, '\\n\\n')\n",
        "  print('Avaliar mais tópicos do seu exame?')\n",
        "  prompt = input()\n",
        "\n",
        "\n",
        "  print(\"dIAg agradece! Volte sempre!\")"
      ]
    },
    {
      "cell_type": "code",
      "source": [
        "import textwrap\n",
        "from IPython.display import display\n",
        "from IPython.display import Markdown\n",
        "\n",
        "def to_markdown(text):\n",
        "  text = text.replace('•', '  *')\n",
        "  return Markdown(textwrap.indent(text, '> ', predicate=lambda _: True))\n",
        "\n",
        "#Imprimindo o histórico\n",
        "for message in chat.history:\n",
        "  display(to_markdown(f'**{message.role}**: {message.parts[0].text}'))\n",
        "  print('-------------------------------------------')"
      ],
      "metadata": {
        "colab": {
          "base_uri": "https://localhost:8080/",
          "height": 1000
        },
        "id": "1qP7dyW4EZdq",
        "outputId": "b3ace239-d7d8-4c09-e7e7-8e9d4761e311"
      },
      "execution_count": null,
      "outputs": [
        {
          "output_type": "display_data",
          "data": {
            "text/plain": [
              "<IPython.core.display.Markdown object>"
            ],
            "text/markdown": "> **user**: Mostre o valor referência para o HCM.................................................. 29,08 para um paciente do sexo Masculino "
          },
          "metadata": {}
        },
        {
          "output_type": "stream",
          "name": "stdout",
          "text": [
            "-------------------------------------------\n"
          ]
        },
        {
          "output_type": "display_data",
          "data": {
            "text/plain": [
              "<IPython.core.display.Markdown object>"
            ],
            "text/markdown": "> **model**: O HCM (Hemoglobina Corpuscular Média) de 29,08 pg está dentro da faixa de referência para homens, que geralmente fica entre 27 e 32 pg. \n> \n> **É importante ressaltar que a interpretação de exames laboratoriais é complexa e exige conhecimento médico especializado.** Um único valor, como o HCM, não conta a história completa da saúde de um paciente. É necessário analisar o HCM em conjunto com outros parâmetros do hemograma, como a Hemoglobina (Hb) e o Hematócrito (Ht), além do histórico médico do paciente, seus sintomas e outros exames complementares. \n> \n> Diversos médicos podem realizar essa análise, cada um com sua área de expertise e foco em diferentes sistemas do corpo humano. Por exemplo, um hematologista pode se aprofundar na análise do HCM em relação a doenças sanguíneas, enquanto um clínico geral pode contextualizar esse valor com o estado geral de saúde do paciente.\n> \n> **Para uma interpretação completa e individualizada do seu exame, procure um médico.** Ele poderá te dar um diagnóstico preciso e te indicar o tratamento mais adequado. \n"
          },
          "metadata": {}
        },
        {
          "output_type": "stream",
          "name": "stdout",
          "text": [
            "-------------------------------------------\n"
          ]
        },
        {
          "output_type": "display_data",
          "data": {
            "text/plain": [
              "<IPython.core.display.Markdown object>"
            ],
            "text/markdown": "> **user**: Mostre o valor referência para o HCM.................................................. 29,08 para um paciente do sexo Eritrócitos.......................................... 2,00 "
          },
          "metadata": {}
        },
        {
          "output_type": "stream",
          "name": "stdout",
          "text": [
            "-------------------------------------------\n"
          ]
        },
        {
          "output_type": "display_data",
          "data": {
            "text/plain": [
              "<IPython.core.display.Markdown object>"
            ],
            "text/markdown": "> **model**: Você forneceu o valor de 29,08 pg para HCM e 2,00 para Eritrócitos, mas não especificou a unidade de medida para Eritrócitos. As unidades comuns para contagem de eritrócitos são milhões por microlitro (µL) ou trilhões por litro (T/L).  \n> \n> **Assumindo que a unidade para Eritrócitos seja milhões por microlitro (µL):**\n> \n> Um valor de 2,00 milhões de eritrócitos/µL é **extremamente baixo** e indica uma condição chamada anemia severa.  Essa condição requer atenção médica imediata. \n> \n> **Independentemente da unidade de medida para Eritrócitos, um HCM de 29,08 pg, isoladamente, não fornece informações suficientes para uma interpretação completa.** \n> \n> Para entender a relação entre esses valores e o seu significado clínico, você precisa considerar outros parâmetros do hemograma, como:\n> \n> * **Hemoglobina (Hb):** Concentração de hemoglobina no sangue.\n> * **Hematócrito (Ht):** Porcentagem do volume sanguíneo ocupado pelos eritrócitos.\n> * **VCM (Volume Corpuscular Médio):**  Tamanho médio dos eritrócitos.\n> * **CHCM (Concentração de Hemoglobina Corpuscular Média):** Concentração média de hemoglobina dentro dos eritrócitos.\n> * **RDW (Red Cell Distribution Width):**  Variação no tamanho dos eritrócitos.\n> \n> Além disso, o médico levará em consideração seu histórico médico, sintomas, medicamentos em uso e outros exames complementares para determinar a causa da anemia e o melhor tratamento para você.\n> \n> **Nunca tente interpretar seus exames sozinho.** Procure um médico para uma avaliação completa e individualizada do seu caso. \n"
          },
          "metadata": {}
        },
        {
          "output_type": "stream",
          "name": "stdout",
          "text": [
            "-------------------------------------------\n"
          ]
        },
        {
          "output_type": "display_data",
          "data": {
            "text/plain": [
              "<IPython.core.display.Markdown object>"
            ],
            "text/markdown": "> **user**: Mostre o valor referência para o HCM.................................................. 29,08 para um paciente do sexo Hemoglobina..................................... 13,00 "
          },
          "metadata": {}
        },
        {
          "output_type": "stream",
          "name": "stdout",
          "text": [
            "-------------------------------------------\n"
          ]
        },
        {
          "output_type": "display_data",
          "data": {
            "text/plain": [
              "<IPython.core.display.Markdown object>"
            ],
            "text/markdown": "> **model**: O HCM de 29,08 pg está dentro da faixa de referência para homens, que geralmente fica entre 27 e 32 pg.  A hemoglobina de 13,00 g/dL também está dentro da faixa de referência para homens, que geralmente fica entre 13,5 e 17,5 g/dL, embora esteja um pouco abaixo do limite inferior.\n> \n> No entanto, **é crucial entender que interpretar exames laboratoriais não se resume a comparar valores individuais com faixas de referência.** \n> \n> Para uma análise completa, é necessário considerar outros parâmetros do hemograma, como:\n> \n> * **Hematócrito (Ht):** Porcentagem do volume sanguíneo ocupado pelos eritrócitos.\n> * **VCM (Volume Corpuscular Médio):**  Tamanho médio dos eritrócitos.\n> * **CHCM (Concentração de Hemoglobina Corpuscular Média):** Concentração média de hemoglobina dentro dos eritrócitos.\n> * **RDW (Red Cell Distribution Width):**  Variação no tamanho dos eritrócitos.\n> \n> Além disso, o médico levará em consideração seu histórico médico, sintomas, medicamentos em uso e outros exames complementares para uma avaliação completa.\n> \n> **Lembre-se:** \n> \n> * Um valor ligeiramente abaixo da referência, como a hemoglobina nesse caso, pode não ser clinicamente significativo, dependendo do contexto individual do paciente. \n> * A interpretação de exames exige conhecimento médico especializado e uma visão holística do paciente. \n> \n> **Procure um médico para uma avaliação completa e individualizada do seu caso.** Ele poderá te dar um diagnóstico preciso e te indicar o tratamento mais adequado, se necessário. \n"
          },
          "metadata": {}
        },
        {
          "output_type": "stream",
          "name": "stdout",
          "text": [
            "-------------------------------------------\n"
          ]
        }
      ]
    }
  ]
}